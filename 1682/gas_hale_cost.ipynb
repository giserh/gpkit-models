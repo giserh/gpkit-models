{
 "cells": [
  {
   "cell_type": "code",
   "execution_count": 1,
   "metadata": {
    "collapsed": true
   },
   "outputs": [],
   "source": [
    "from gpkit import *\n",
    "import numpy as np\n",
    "from cost import DAPCA4Cost\n",
    "from gas_hale import GasPoweredHALE"
   ]
  },
  {
   "cell_type": "code",
   "execution_count": 4,
   "metadata": {
    "collapsed": false
   },
   "outputs": [
    {
     "name": "stdout",
     "output_type": "stream",
     "text": [
      "Using solver 'cvxopt'\n",
      "Solving for 51 variables.\n",
      "Solving took 0.947 seconds.\n"
     ]
    },
    {
     "ename": "RuntimeWarning",
     "evalue": "final status of solver 'cvxopt' was 'unknown', not 'optimal'.\n\nThe infeasible solve's result is stored in the 'result' attribute (model.program.result) and its raw output in 'solver_out'. If the problem was Primal Infeasible, you can generate a feasibility-finding relaxation of your Model with model.feasibility().",
     "output_type": "error",
     "traceback": [
      "\u001b[0;31m---------------------------------------------------------------------------\u001b[0m",
      "\u001b[0;31mRuntimeWarning\u001b[0m                            Traceback (most recent call last)",
      "\u001b[0;32m<ipython-input-4-cafea4fd462f>\u001b[0m in \u001b[0;36m<module>\u001b[0;34m()\u001b[0m\n\u001b[1;32m     23\u001b[0m         \u001b[0;32mreturn\u001b[0m \u001b[0mmodel\u001b[0m\u001b[0;34m\u001b[0m\u001b[0m\n\u001b[1;32m     24\u001b[0m \u001b[0;34m\u001b[0m\u001b[0m\n\u001b[0;32m---> 25\u001b[0;31m \u001b[0mGasHALECost\u001b[0m\u001b[0;34m(\u001b[0m\u001b[0;34m)\u001b[0m\u001b[0;34m.\u001b[0m\u001b[0msolve\u001b[0m\u001b[0;34m(\u001b[0m\u001b[0;34m)\u001b[0m\u001b[0;34m\u001b[0m\u001b[0m\n\u001b[0m",
      "\u001b[0;32m/Users/mjburton11/Documents/SuperUROP/gpkit/gpkit/model.pyc\u001b[0m in \u001b[0;36msolve\u001b[0;34m(self, solver, verbosity, skipsweepfailures, *args, **kwargs)\u001b[0m\n\u001b[1;32m    340\u001b[0m         \u001b[0;32mtry\u001b[0m\u001b[0;34m:\u001b[0m\u001b[0;34m\u001b[0m\u001b[0m\n\u001b[1;32m    341\u001b[0m             return self._solve(\"gp\", solver, verbosity, skipsweepfailures,\n\u001b[0;32m--> 342\u001b[0;31m                                *args, **kwargs)\n\u001b[0m\u001b[1;32m    343\u001b[0m         \u001b[0;32mexcept\u001b[0m \u001b[0mValueError\u001b[0m \u001b[0;32mas\u001b[0m \u001b[0merr\u001b[0m\u001b[0;34m:\u001b[0m\u001b[0;34m\u001b[0m\u001b[0m\n\u001b[1;32m    344\u001b[0m             \u001b[0;32mif\u001b[0m \u001b[0merr\u001b[0m\u001b[0;34m.\u001b[0m\u001b[0mmessage\u001b[0m \u001b[0;34m==\u001b[0m \u001b[0;34m(\u001b[0m\u001b[0;34m\"GeometricPrograms cannot contain Signomials\"\u001b[0m\u001b[0;34m)\u001b[0m\u001b[0;34m:\u001b[0m\u001b[0;34m\u001b[0m\u001b[0m\n",
      "\u001b[0;32m/Users/mjburton11/Documents/SuperUROP/gpkit/gpkit/model.pyc\u001b[0m in \u001b[0;36m_solve\u001b[0;34m(self, programType, solver, verbosity, skipsweepfailures, *args, **kwargs)\u001b[0m\n\u001b[1;32m    498\u001b[0m             self.program, solvefn = form_program(programType, signomials,\n\u001b[1;32m    499\u001b[0m                                                  verbosity=verbosity)\n\u001b[0;32m--> 500\u001b[0;31m             \u001b[0mresult\u001b[0m \u001b[0;34m=\u001b[0m \u001b[0msolvefn\u001b[0m\u001b[0;34m(\u001b[0m\u001b[0;34m*\u001b[0m\u001b[0margs\u001b[0m\u001b[0;34m,\u001b[0m \u001b[0;34m**\u001b[0m\u001b[0mkwargs\u001b[0m\u001b[0;34m)\u001b[0m\u001b[0;34m\u001b[0m\u001b[0m\n\u001b[0m\u001b[1;32m    501\u001b[0m             \u001b[0msolution\u001b[0m\u001b[0;34m.\u001b[0m\u001b[0mappend\u001b[0m\u001b[0;34m(\u001b[0m\u001b[0mparse_result\u001b[0m\u001b[0;34m(\u001b[0m\u001b[0mresult\u001b[0m\u001b[0;34m,\u001b[0m \u001b[0mconstants\u001b[0m\u001b[0;34m,\u001b[0m \u001b[0mbeforesubs\u001b[0m\u001b[0;34m)\u001b[0m\u001b[0;34m)\u001b[0m\u001b[0;34m\u001b[0m\u001b[0m\n\u001b[1;32m    502\u001b[0m         \u001b[0msolution\u001b[0m\u001b[0;34m.\u001b[0m\u001b[0mprogram\u001b[0m \u001b[0;34m=\u001b[0m \u001b[0mself\u001b[0m\u001b[0;34m.\u001b[0m\u001b[0mprogram\u001b[0m\u001b[0;34m\u001b[0m\u001b[0m\n",
      "\u001b[0;32m/Users/mjburton11/Documents/SuperUROP/gpkit/gpkit/geometric_program.pyc\u001b[0m in \u001b[0;36msolve\u001b[0;34m(self, solver, verbosity, *args, **kwargs)\u001b[0m\n\u001b[1;32m    191\u001b[0m                                  \u001b[0;34m\"not 'optimal'.\"\u001b[0m \u001b[0;34m%\u001b[0m\u001b[0;34m\u001b[0m\u001b[0m\n\u001b[1;32m    192\u001b[0m                                  \u001b[0;34m(\u001b[0m\u001b[0msolver\u001b[0m\u001b[0;34m,\u001b[0m \u001b[0msolver_out\u001b[0m\u001b[0;34m.\u001b[0m\u001b[0mget\u001b[0m\u001b[0;34m(\u001b[0m\u001b[0;34m\"status\"\u001b[0m\u001b[0;34m,\u001b[0m \u001b[0mNone\u001b[0m\u001b[0;34m)\u001b[0m\u001b[0;34m)\u001b[0m \u001b[0;34m+\u001b[0m\u001b[0;34m\u001b[0m\u001b[0m\n\u001b[0;32m--> 193\u001b[0;31m                                  \u001b[0;34m\"\\n\\nThe infeasible solve's result is stored\"\u001b[0m\u001b[0;34m\u001b[0m\u001b[0m\n\u001b[0m\u001b[1;32m    194\u001b[0m                                  \u001b[0;34m\" in the 'result' attribute\"\u001b[0m\u001b[0;34m\u001b[0m\u001b[0m\n\u001b[1;32m    195\u001b[0m                                  \u001b[0;34m\" (model.program.result)\"\u001b[0m\u001b[0;34m\u001b[0m\u001b[0m\n",
      "\u001b[0;31mRuntimeWarning\u001b[0m: final status of solver 'cvxopt' was 'unknown', not 'optimal'.\n\nThe infeasible solve's result is stored in the 'result' attribute (model.program.result) and its raw output in 'solver_out'. If the problem was Primal Infeasible, you can generate a feasibility-finding relaxation of your Model with model.feasibility()."
     ]
    }
   ],
   "source": [
    "class GasHALECost(Model):\n",
    "    def setup(self):\n",
    "        \n",
    "        cost = DAPCA4Cost()\n",
    "        HALE = GasPoweredHALE()\n",
    "        \n",
    "        W_e = cost['W_e']\n",
    "        W_zfw = HALE['W_{zfw}']\n",
    "        W = HALE['W']\n",
    "        C_fly = cost['C_{fly}']\n",
    "        \n",
    "        C_eng = Variable('C_{eng}', 2000, 'USD2012', 'Engine cost')\n",
    "        C_tot = Variable('C_{tot}', 5000000, 'USD2012', 'Total cost')\n",
    "        \n",
    "        constraints = [W_e >= W_zfw,\n",
    "                       C_tot >= C_fly]\n",
    "        objective = W\n",
    "        \n",
    "        model = Model(objective, constraints)\n",
    "        \n",
    "        model = model & cost & HALE\n",
    "        \n",
    "        return model\n",
    "    \n",
    "GasHALECost().solve()"
   ]
  },
  {
   "cell_type": "code",
   "execution_count": null,
   "metadata": {
    "collapsed": true
   },
   "outputs": [],
   "source": []
  }
 ],
 "metadata": {
  "kernelspec": {
   "display_name": "Python 2",
   "language": "python",
   "name": "python2"
  },
  "language_info": {
   "codemirror_mode": {
    "name": "ipython",
    "version": 2
   },
   "file_extension": ".py",
   "mimetype": "text/x-python",
   "name": "python",
   "nbconvert_exporter": "python",
   "pygments_lexer": "ipython2",
   "version": "2.7.10"
  }
 },
 "nbformat": 4,
 "nbformat_minor": 0
}

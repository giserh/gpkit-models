{
 "cells": [
  {
   "cell_type": "code",
   "execution_count": 2,
   "metadata": {
    "collapsed": false,
    "scrolled": false
   },
   "outputs": [
    {
     "name": "stdout",
     "output_type": "stream",
     "text": [
      "Using solver 'cvxopt'\n",
      "Solving for 20 variables.\n",
      "Solving took 0.0292 seconds.\n",
      "\n",
      "Cost\n",
      "----\n",
      " 164.9 [lbf] \n",
      "\n",
      "Free Variables\n",
      "--------------\n",
      "         C_D : 0.06111                Drag coefficient              \n",
      "         C_L : 1.057                  Lift coefficient              \n",
      "         C_f : 0.005237               wing skin friction coefficient\n",
      "  C_{Torque} : 0.1592                 Torque coefficient            \n",
      "   P_{shaft} : 1564       [W]         Shaft power                   \n",
      "          Re : 5.636e+05              Reynolds number               \n",
      "           S : 1.893      [m**2]      Wing reference area           \n",
      "     T_{atm} : 257.6      [K]         air temperature               \n",
      "           V : 31.34      [m/s]       Cruise velocity               \n",
      "    V_{wind} : 31.34      [m/s]       wind speed                    \n",
      "           W : 164.9      [lbf]       Aircraft weight               \n",
      "W_{airframe} : 41.23      [lbf]       Airframe weight               \n",
      "     W_{eng} : 14.2       [N]         Engine weight                 \n",
      "    W_{fuel} : 108.5      [lbf]       Fuel Weight                   \n",
      "     W_{zfw} : 56.42      [lbf]       Zero fuel weight              \n",
      "        \\rho : 0.7465     [kg/m**3]                                 \n",
      "           b : 17.19      [ft]        span                          \n",
      "           h : 1.5e+04    [ft]        Altitude                      \n",
      "          wl : 8.092      [lbf/ft**2] wing loading                  \n",
      "       z_bre : 1.099                  breguet coefficient           \n",
      "\n",
      "Constants\n",
      "---------\n",
      "               A : 14.5                   aspect ratio                         \n",
      "            BSFC : 0.6        [lbf/hp/hr] brake specific fuel consumption      \n",
      "       C_{L-max} : 1.5                    maximum lift coefficient             \n",
      "      C_{Thrust} : 0.5                    Thrust coefficient                   \n",
      "          C_{d0} : 0.02                   non-wing drag coefficient            \n",
      "     J_{advance} : 1.7                    Advance ratio                        \n",
      "        K_{wing} : 1.3                    wing form factor                     \n",
      "         L_{atm} : 0.0065     [K/m]       Temperature lapse rate               \n",
      "         M_{atm} : 0.02896    [kg/mol]    Molar mass of dry air                \n",
      "         R_{atm} : 8.314      [J/K/mol]                                        \n",
      "       R_{earth} : 6371       [km]        Radius of earth                      \n",
      "          T_{sl} : 288.1      [K]         Temperature at sea level             \n",
      "    W_{avionics} : 2          [lbf]       Avionics weight                      \n",
      "         W_{pay} : 10         [lbf]       Payload weight                       \n",
      "     \\eta_{prop} : 0.85                   Propulsive efficiency                \n",
      "             \\mu : 1.5e-05    [N*s/m**2]  dynamic viscosity                    \n",
      "     \\rho_{fuel} : 719        [kg/m**3]   density of gasoline                  \n",
      "\\theta_{look-up} : 5                      look up angle                        \n",
      "         cl_{16} : 0.0001                 profile stall coefficient            \n",
      "   d_{footprint} : 100        [km]        station keeping footprint diameter   \n",
      "               e : 0.9                    spanwise efficiency                  \n",
      "    f_{airframe} : 0.25                   Airframe weight fraction             \n",
      "               g : 9.81       [m/s**2]    Gravitational acceleration           \n",
      "         h_{max} : 2.087e+04  [ft]        maximum height                       \n",
      "         h_{min} : 1.18e+04   [ft]        minimum height                       \n",
      "          p_{sl} : 1.013e+05  [Pa]        Pressure at sea level                \n",
      "               t : 6          [day]       time on station                      \n",
      "              tc : 0.1                    thickness to chord ratio             \n",
      "       wd_{cnst} : 0.0015     [m/ft/s]    wind speed constant predited by model\n",
      "         wd_{ln} : 8.845      [m/s]       linear wind speed variable           \n",
      "\n",
      "Sensitivities\n",
      "-------------\n",
      "               t : 4.011    time on station                      \n",
      "            BSFC : 4.011    brake specific fuel consumption      \n",
      "   d_{footprint} : 3.276    station keeping footprint diameter   \n",
      "       wd_{cnst} : 3.141    wind speed constant predited by model\n",
      "\\theta_{look-up} : 3.022    look up angle                        \n",
      "    f_{airframe} : 2.862    Airframe weight fraction             \n",
      "          C_{d0} : 1.371    non-wing drag coefficient            \n",
      "         wd_{ln} : 1.235    linear wind speed variable           \n",
      "        K_{wing} : 0.9335   wing form factor                     \n",
      "         W_{pay} : 0.6942   Payload weight                       \n",
      "             \\mu : 0.1867   dynamic viscosity                    \n",
      "    W_{avionics} : 0.1388   Avionics weight                      \n",
      "         cl_{16} : 0.01664  profile stall coefficient            \n",
      "              tc : -0.06223 thickness to chord ratio             \n",
      "               g : -0.06223 Gravitational acceleration           \n",
      "     \\rho_{fuel} : -0.06223 density of gasoline                  \n",
      "       R_{earth} : -0.1348  Radius of earth                      \n",
      "               A : -1.744   aspect ratio                         \n",
      "               e : -1.868   spanwise efficiency                  \n",
      "     \\eta_{prop} : -4.19    Propulsive efficiency                \n",
      "\n"
     ]
    }
   ],
   "source": [
    "from gas_hale import GasPoweredHALE\n",
    "import gpkit\n",
    "import numpy as np\n",
    "#gpkit.settings['latex_modelname'] = False\n",
    "\n",
    "# to modify the GasPoweredHALE model, edit gas_hale.py\n",
    "\n",
    "m = GasPoweredHALE()\n",
    "#\n",
    "sol = m.solve()\n",
    "#m.controlpanel()\n"
   ]
  },
  {
   "cell_type": "code",
   "execution_count": 3,
   "metadata": {
    "collapsed": false
   },
   "outputs": [
    {
     "name": "stdout",
     "output_type": "stream",
     "text": [
      "\\begin{array}{ll}\n",
      "\\text{}\n",
      "\\text{minimize}\n",
      "    & {W}_{GasPoweredHALE1}\\mathrm{~\\left[ lbf \\right]} \\\\\n",
      "\\text{subject to}\n",
      "    & {P_{shaft}}_{GasPoweredHALE1} = \\frac{{C_D}_{GasPoweredHALE1} {V}_{GasPoweredHALE1} {W}_{GasPoweredHALE1}}{{C_L}_{GasPoweredHALE1} {\\eta_{prop}}_{GasPoweredHALE1}} \\\\\n",
      "    & {W}_{GasPoweredHALE1} = 0.5{C_L}_{GasPoweredHALE1} {S}_{GasPoweredHALE1} {V}_{GasPoweredHALE1}^{2} {\\rho}_{GasPoweredHALE1} \\\\\n",
      "    & {C_D}_{GasPoweredHALE1} \\geq 0.3183\\frac{{C_L}_{GasPoweredHALE1}^{2}}{{A}_{GasPoweredHALE1} {e}_{GasPoweredHALE1}} + 2{C_f}_{GasPoweredHALE1} {K_{wing}}_{GasPoweredHALE1} + {C_L}_{GasPoweredHALE1}^{16} {cl_{16}}_{GasPoweredHALE1} + {C_{d0}}_{GasPoweredHALE1} \\\\\n",
      "    & {\\eta_{prop}}_{GasPoweredHALE1} = 0.1592\\frac{{C_{Thrust}}_{GasPoweredHALE1} {J_{advance}}_{GasPoweredHALE1}}{{C_{Torque}}_{GasPoweredHALE1}} \\\\\n",
      "    & {b}_{GasPoweredHALE1}^{2} = {A}_{GasPoweredHALE1} {S}_{GasPoweredHALE1} \\\\\n",
      "    & {C_{L-max}}_{GasPoweredHALE1} \\geq {C_L}_{GasPoweredHALE1} \\\\\n",
      "    & {Re}_{GasPoweredHALE1} = \\frac{{S}_{GasPoweredHALE1}^{0.5} {V}_{GasPoweredHALE1} {\\rho}_{GasPoweredHALE1}}{{A}_{GasPoweredHALE1}^{0.5} {\\mu}_{GasPoweredHALE1}} \\\\\n",
      "    & {C_f}_{GasPoweredHALE1} \\geq \\frac{0.074}{{Re}_{GasPoweredHALE1}^{0.2}} \\\\\n",
      "    & {W_{eng}}_{GasPoweredHALE1} \\geq 0.0372{P_{shaft}}_{GasPoweredHALE1}^{0.81} \\\\\n",
      "    & {W_{airframe}}_{GasPoweredHALE1} \\geq {W}_{GasPoweredHALE1} {f_{airframe}}_{GasPoweredHALE1} \\\\\n",
      "    & {wl}_{GasPoweredHALE1} = \\frac{{W}_{GasPoweredHALE1}}{{S}_{GasPoweredHALE1}} \\\\\n",
      "    & {W_{zfw}}_{GasPoweredHALE1} \\geq 0.2248{W_{eng}}_{GasPoweredHALE1} + {W_{airframe}}_{GasPoweredHALE1} + {W_{avionics}}_{GasPoweredHALE1} + {W_{pay}}_{GasPoweredHALE1} \\\\\n",
      "    & {wl}_{GasPoweredHALE1} = \\frac{{W}_{GasPoweredHALE1}}{{S}_{GasPoweredHALE1}} \\\\\n",
      "    & {W}_{GasPoweredHALE1} \\geq {W_{fuel}}_{GasPoweredHALE1} + {W_{zfw}}_{GasPoweredHALE1} \\\\\n",
      "    & {z_bre}_{GasPoweredHALE1} \\geq 0.1432\\frac{{BSFC}_{GasPoweredHALE1} {C_D}_{GasPoweredHALE1} {V}_{GasPoweredHALE1} {t}_{GasPoweredHALE1}}{{C_L}_{GasPoweredHALE1} {\\eta_{prop}}_{GasPoweredHALE1}} \\\\\n",
      "    & \\frac{{W_{fuel}}_{GasPoweredHALE1}}{{W_{zfw}}_{GasPoweredHALE1}} \\geq 0.1667{z_bre}_{GasPoweredHALE1}^{3} + 0.5{z_bre}_{GasPoweredHALE1}^{2} + {z_bre}_{GasPoweredHALE1} \\\\\n",
      "    & 2 \\times 10^{4} \\geq {h}_{GasPoweredHALE1} \\\\\n",
      "    & {T_{sl}}_{GasPoweredHALE1} \\geq 0.3048{L_{atm}}_{GasPoweredHALE1} {h}_{GasPoweredHALE1} + {T_{atm}}_{GasPoweredHALE1} \\\\\n",
      "    & \\frac{{M_{atm}}_{GasPoweredHALE1} {T_{atm}}_{GasPoweredHALE1}^{4.3} {p_{sl}}_{GasPoweredHALE1}}{{R_{atm}}_{GasPoweredHALE1} {T_{sl}}_{GasPoweredHALE1}^{5.3}} \\geq {\\rho}_{GasPoweredHALE1} \\\\\n",
      "    & {h}_{GasPoweredHALE1} \\geq 0.008727{\\theta_{look-up}}_{GasPoweredHALE1} {d_{footprint}}_{GasPoweredHALE1} + 0.125\\frac{{d_{footprint}}_{GasPoweredHALE1}^{2}}{{R_{earth}}_{GasPoweredHALE1}} + 8.861 \\times 10^{-7}{\\theta_{look-up}}_{GasPoweredHALE1}^{3} {d_{footprint}}_{GasPoweredHALE1} \\\\\n",
      "    & {V_{wind}}_{GasPoweredHALE1} \\geq {h}_{GasPoweredHALE1} {wd_{cnst}}_{GasPoweredHALE1} + {wd_{ln}}_{GasPoweredHALE1} \\\\\n",
      "    & {V}_{GasPoweredHALE1} \\geq {V_{wind}}_{GasPoweredHALE1} \\\\\n",
      "    & {h}_{GasPoweredHALE1} \\geq {h_{min}}_{GasPoweredHALE1} \\\\\n",
      "    & {h_{max}}_{GasPoweredHALE1} \\geq {h}_{GasPoweredHALE1} \\\\\n",
      "    & \\frac{{S}_{GasPoweredHALE1}^{1.5} {tc}_{GasPoweredHALE1}}{{A}_{GasPoweredHALE1}^{0.5}} \\geq \\frac{{W_{fuel}}_{GasPoweredHALE1}}{{\\rho_{fuel}}_{GasPoweredHALE1} {g}_{GasPoweredHALE1}} \\\\\n",
      "\\text{substituting}\n",
      "    & {A}_{GasPoweredHALE1} \\gets 14.5 \\\\\n",
      "    & {BSFC}_{GasPoweredHALE1} \\gets 0.6~\\mathrm{\\tfrac{lbf}{\\left(hp\\cdot hr\\right)}} \\\\\n",
      "    & {C_{L-max}}_{GasPoweredHALE1} \\gets 1.5 \\\\\n",
      "    & {C_{Thrust}}_{GasPoweredHALE1} \\gets 0.5 \\\\\n",
      "    & {C_{d0}}_{GasPoweredHALE1} \\gets 0.02 \\\\\n",
      "    & {J_{advance}}_{GasPoweredHALE1} \\gets 1.7 \\\\\n",
      "    & {K_{wing}}_{GasPoweredHALE1} \\gets 1.3 \\\\\n",
      "    & {L_{atm}}_{GasPoweredHALE1} \\gets 0.0065~\\mathrm{\\tfrac{K}{m}} \\\\\n",
      "    & {M_{atm}}_{GasPoweredHALE1} \\gets 0.02896~\\mathrm{\\tfrac{kg}{mol}} \\\\\n",
      "    & {R_{atm}}_{GasPoweredHALE1} \\gets 8.314~\\mathrm{\\tfrac{J}{\\left(K\\cdot mol\\right)}} \\\\\n",
      "    & {R_{earth}}_{GasPoweredHALE1} \\gets 6371~\\mathrm{km} \\\\\n",
      "    & {T_{sl}}_{GasPoweredHALE1} \\gets 288.1~\\mathrm{K} \\\\\n",
      "    & {W_{avionics}}_{GasPoweredHALE1} \\gets 2~\\mathrm{lbf} \\\\\n",
      "    & {W_{pay}}_{GasPoweredHALE1} \\gets 10~\\mathrm{lbf} \\\\\n",
      "    & {\\eta_{prop}}_{GasPoweredHALE1} \\gets 0.85 \\\\\n",
      "    & {\\mu}_{GasPoweredHALE1} \\gets 1.5 \\times 10^{-5}~\\mathrm{\\tfrac{N\\cdot s}{m^{2}}} \\\\\n",
      "    & {\\rho_{fuel}}_{GasPoweredHALE1} \\gets 719~\\mathrm{\\tfrac{kg}{m^{3}}} \\\\\n",
      "    & {\\theta_{look-up}}_{GasPoweredHALE1} \\gets 5 \\\\\n",
      "    & {cl_{16}}_{GasPoweredHALE1} \\gets 0.0001 \\\\\n",
      "    & {d_{footprint}}_{GasPoweredHALE1} \\gets 100~\\mathrm{km} \\\\\n",
      "    & {e}_{GasPoweredHALE1} \\gets 0.9 \\\\\n",
      "    & {f_{airframe}}_{GasPoweredHALE1} \\gets 0.25 \\\\\n",
      "    & {g}_{GasPoweredHALE1} \\gets 9.81~\\mathrm{\\tfrac{m}{s^{2}}} \\\\\n",
      "    & {h_{max}}_{GasPoweredHALE1} \\gets 2.087 \\times 10^{4}~\\mathrm{ft} \\\\\n",
      "    & {h_{min}}_{GasPoweredHALE1} \\gets 1.18 \\times 10^{4}~\\mathrm{ft} \\\\\n",
      "    & {p_{sl}}_{GasPoweredHALE1} \\gets 1.013 \\times 10^{5}~\\mathrm{Pa} \\\\\n",
      "    & {tc}_{GasPoweredHALE1} \\gets 0.1 \\\\\n",
      "    & {t}_{GasPoweredHALE1} \\gets 6~\\mathrm{day} \\\\\n",
      "    & {wd_{cnst}}_{GasPoweredHALE1} \\gets 0.0015~\\mathrm{\\tfrac{m}{\\left(ft\\cdot s\\right)}} \\\\\n",
      "    & {wd_{ln}}_{GasPoweredHALE1} \\gets 8.845~\\mathrm{\\tfrac{m}{s}} \\\\\n",
      "\\end{array}\n"
     ]
    }
   ],
   "source": [
    "print m.latex()"
   ]
  },
  {
   "cell_type": "code",
   "execution_count": null,
   "metadata": {
    "collapsed": false
   },
   "outputs": [],
   "source": [
    "import numpy as np\n",
    "m.substitutions.update({\"t\": ('sweep', np.linspace(4, 8, 15)),\n",
    "                        \"W_{pay}\": ('sweep', np.linspace(4,15,15))})\n",
    "sol = m.solve(solver=\"mosek\", verbosity=0, skipsweepfailures=True)"
   ]
  },
  {
   "cell_type": "code",
   "execution_count": null,
   "metadata": {
    "collapsed": false
   },
   "outputs": [],
   "source": [
    "%matplotlib inline\n",
    "from gpkit.interactive.plotting import contour_array\n",
    "fig, subplots = contour_array(m, \"W_{pay}\", \"t\", [\"W\", \"W_{pay}\"])\n"
   ]
  },
  {
   "cell_type": "code",
   "execution_count": null,
   "metadata": {
    "collapsed": false
   },
   "outputs": [],
   "source": [
    "#for sp in subplots:\n",
    "sp = subplots[0]\n",
    "sp.set_xlabel(\"Payload Weight\", color=\"black\", fontsize=12)\n",
    "sp.set_ylabel(\"Time on Station\", color=\"black\", fontsize=12)\n",
    "sp.set_title(\"Total Weight\", color=\"black\", fontsize=12)\n",
    "sp.tick_params(labelsize=12, labelcolor=\"black\", color=\"black\")\n",
    "#fig\n",
    "fig.savefig(\"TvsV.pdf\")"
   ]
  },
  {
   "cell_type": "code",
   "execution_count": null,
   "metadata": {
    "collapsed": true
   },
   "outputs": [],
   "source": []
  }
 ],
 "metadata": {
  "kernelspec": {
   "display_name": "Python 2",
   "language": "python",
   "name": "python2"
  },
  "language_info": {
   "codemirror_mode": {
    "name": "ipython",
    "version": 2
   },
   "file_extension": ".py",
   "mimetype": "text/x-python",
   "name": "python",
   "nbconvert_exporter": "python",
   "pygments_lexer": "ipython2",
   "version": "2.7.10"
  }
 },
 "nbformat": 4,
 "nbformat_minor": 0
}

{
 "cells": [
  {
   "cell_type": "code",
   "execution_count": 3,
   "metadata": {
    "collapsed": false,
    "scrolled": false
   },
   "outputs": [
    {
     "name": "stdout",
     "output_type": "stream",
     "text": [
      "\n",
      "Cost\n",
      "----\n",
      " 139.8 [lbf] \n",
      "\n",
      "Free Variables\n",
      "--------------\n",
      "                A : 14.52                  aspect ratio                  \n",
      "      A_{capcent} : 0.0001165  [m**2]      Cap area at center            \n",
      "              C_D : 0.06318                Drag coefficient              \n",
      "              C_L : 1.09                   Lift coefficient              \n",
      "              C_f : 0.005324               wing skin friction coefficient\n",
      "       C_{Torque} : 0.1872                 Torque coefficient            \n",
      "                F : 3049       [N]         Load on wings                 \n",
      "                M : 1783       [N*m]       Center bending moment         \n",
      "          M_{cap} : 0.3196     [kg]        Cap mass                      \n",
      "         M_{skin} : 0.6116     [kg]        Skin mass                     \n",
      "       Mach_{tip} : 0.7188                 Propeller tip Mach number     \n",
      "                P : 5.532e+04  [N]         Cap load                      \n",
      "        P_{shaft} : 1.782      [hp]        Shaft power                   \n",
      "               Re : 5.189e+05              Reynolds number               \n",
      "                S : 1.507      [m**2]      Wing reference area           \n",
      "          T_{atm} : 258.4      [K]         Air temperature               \n",
      "           Thrust : 8.102      [lbf]       Cruise thrust                 \n",
      "                V : 31.34      [m/s]       Cruise velocity               \n",
      "         V_{wind} : 31.34      [m/s]       wind speed                    \n",
      "        Vol_{cap} : 0.0001816  [m**3]      Cap volume                    \n",
      "       Vol_{fuel} : 0.2811     [m**3]      Fuel Volume                   \n",
      "                W : 139.8      [lbf]       Aircraft weight               \n",
      "         W_{cent} : 137.1      [lbf]       Center aircraft weight        \n",
      "W_{eng-installed} : 13.42      [lbf]       Installed engine weight       \n",
      "         W_{fuel} : 91.67      [lbf]       Fuel weight                   \n",
      "         W_{wing} : 2.053      [lbf]       Total wing structural weight  \n",
      "          W_{zfw} : 47.47      [lbf]       Zero fuel weight              \n",
      "             \\rho : 0.7708     [kg/m**3]                                 \n",
      "          a_{atm} : 322.3      [m/s]       Speed of sound at altitude    \n",
      "                b : 15.34      [ft]        span                          \n",
      "                c : 1.057      [ft]        Wing chord                    \n",
      "      d_{tip_max} : 1.918      [ft]        max wing tip deflection       \n",
      "          d_{tip} : 1.918      [ft]        Tip deflection                \n",
      "          eta_{0} : 0.1997                 overall efficiency            \n",
      "                h : 1.5e+04    [ft]        Altitude                      \n",
      "         h_{spar} : 0.03222    [m]         Spar height                   \n",
      "      mdot_{fuel} : 1.069      [lbf/hr]    Fuel flow rate                \n",
      "          n_{Rot} : 121        [1/s]       Propeller rotation speed      \n",
      "          w_{cap} : 6.447      [in]        Spar cap width                \n",
      "               wl : 8.616      [lbf/ft**2] wing loading                  \n",
      "          z_{bre} : 1.102                  breguet coefficient           \n",
      "\n",
      "Sensitivities\n",
      "-------------\n",
      "            BSFC : 1.048    brake specific fuel consumption       \n",
      "               t : 1.048    time on station                       \n",
      "   d_{footprint} : 0.7566   station keeping footprint diameter    \n",
      "\\theta_{look-up} : 0.6978   look up angle                         \n",
      "       wd_{cnst} : 0.6944   wind speed constant predicted by model\n",
      "        W_{fuse} : 0.4339   Fuselage weight                       \n",
      "             sig : 0.4154   Cap stress                            \n",
      "          C_{d0} : 0.3318   non-wing drag coefficient             \n",
      "         wd_{ln} : 0.2731   linear wind speed variable            \n",
      "         W_{eng} : 0.2684   Engine weight                         \n",
      "        K_{wing} : 0.2297   wing form factor                      \n",
      "         W_{fix} : 0.217    Fixed weight                          \n",
      "         R_{atm} : 0.06338  Universal gas constant                \n",
      "               g : 0.04879  Gravitational acceleration            \n",
      "             \\mu : 0.04593  dynamic viscosity                     \n",
      "    W_{avionics} : 0.04339  Avionics weight                       \n",
      "          T_{sl} : 0.03236  Temperature at sea level              \n",
      "      rho_{skin} : 0.03204  Wing Skin Density                     \n",
      "         L_{atm} : 0.03102  Temperature lapse rate                \n",
      "       rho_{cap} : 0.01674  Density of cf                         \n",
      "               N : 0.01674  Load factor                           \n",
      "       R_{earth} : -0.03114 Radius of earth                       \n",
      "          p_{sl} : -0.06338 Pressure at sea level                 \n",
      "         M_{atm} : -0.06338 Molar mass of dry air                 \n",
      "         E_{cap} : -0.4322  Youngs modulus cf                     \n",
      "             t_c : -0.4481  thickness ratio                       \n",
      "               e : -0.4802  spanwise efficiency                   \n",
      "     \\eta_{prop} : -1.048   Propulsive efficiency                 \n",
      "\n"
     ]
    }
   ],
   "source": [
    "from gas_hale import GasPoweredHALE\n",
    "import gpkit\n",
    "import numpy as np\n",
    "gpkit.settings['latex_modelname'] = False\n",
    "\n",
    "# to modify the GasPoweredHALE model, edit gas_hale.py\n",
    "\n",
    "m = GasPoweredHALE()\n",
    "#sol = m.solve()\n",
    "m.controlpanel()"
   ]
  },
  {
   "cell_type": "code",
   "execution_count": 1,
   "metadata": {
    "collapsed": false
   },
   "outputs": [
    {
     "ename": "NameError",
     "evalue": "name 'sol' is not defined",
     "output_type": "error",
     "traceback": [
      "\u001b[1;31m---------------------------------------------------------------------------\u001b[0m",
      "\u001b[1;31mNameError\u001b[0m                                 Traceback (most recent call last)",
      "\u001b[1;32m<ipython-input-1-7cb18706f4bb>\u001b[0m in \u001b[0;36m<module>\u001b[1;34m()\u001b[0m\n\u001b[1;32m----> 1\u001b[1;33m \u001b[0mx\u001b[0m \u001b[1;33m=\u001b[0m \u001b[0msol\u001b[0m\u001b[1;33m(\u001b[0m\u001b[1;34m'W_{fuel}'\u001b[0m\u001b[1;33m)\u001b[0m\u001b[1;33m/\u001b[0m\u001b[0msol\u001b[0m\u001b[1;33m(\u001b[0m\u001b[1;34m'W'\u001b[0m\u001b[1;33m)\u001b[0m\u001b[1;33m\u001b[0m\u001b[0m\n\u001b[0m\u001b[0;32m      2\u001b[0m \u001b[0my\u001b[0m \u001b[1;33m=\u001b[0m \u001b[0msol\u001b[0m\u001b[1;33m(\u001b[0m\u001b[1;34m'W_{pay}'\u001b[0m\u001b[1;33m)\u001b[0m\u001b[1;33m/\u001b[0m\u001b[0msol\u001b[0m\u001b[1;33m(\u001b[0m\u001b[1;34m'W'\u001b[0m\u001b[1;33m)\u001b[0m\u001b[1;33m\u001b[0m\u001b[0m\n\u001b[0;32m      3\u001b[0m \u001b[0mz\u001b[0m \u001b[1;33m=\u001b[0m \u001b[0msol\u001b[0m\u001b[1;33m(\u001b[0m\u001b[1;34m'P_{shaft}'\u001b[0m\u001b[1;33m)\u001b[0m\u001b[1;33m/\u001b[0m\u001b[1;36m745.699872\u001b[0m\u001b[1;33m\u001b[0m\u001b[0m\n\u001b[0;32m      4\u001b[0m \u001b[1;32mprint\u001b[0m \u001b[0mx\u001b[0m\u001b[1;33m\u001b[0m\u001b[0m\n\u001b[0;32m      5\u001b[0m \u001b[1;32mprint\u001b[0m \u001b[0my\u001b[0m\u001b[1;33m\u001b[0m\u001b[0m\n",
      "\u001b[1;31mNameError\u001b[0m: name 'sol' is not defined"
     ]
    }
   ],
   "source": [
    "x = sol('W_{fuel}')/sol('W')\n",
    "y = sol('W_{pay}')/sol('W')\n",
    "z = sol('P_{shaft}')/745.699872\n",
    "print x\n",
    "print y\n",
    "print z"
   ]
  },
  {
   "cell_type": "code",
   "execution_count": 6,
   "metadata": {
    "collapsed": false
   },
   "outputs": [
    {
     "ename": "ImportError",
     "evalue": "Could not load MOSEK library: ImportError('No module named lib',)",
     "output_type": "error",
     "traceback": [
      "\u001b[1;31m---------------------------------------------------------------------------\u001b[0m",
      "\u001b[1;31mImportError\u001b[0m                               Traceback (most recent call last)",
      "\u001b[1;32m<ipython-input-6-ce779fac2e21>\u001b[0m in \u001b[0;36m<module>\u001b[1;34m()\u001b[0m\n\u001b[0;32m      2\u001b[0m m.substitutions.update({\"t\": ('sweep', np.linspace(4, 7, 5)),\n\u001b[0;32m      3\u001b[0m                         \"d_{footprint}\": ('sweep', np.linspace(0.1,0.4,5))})\n\u001b[1;32m----> 4\u001b[1;33m \u001b[0msol\u001b[0m \u001b[1;33m=\u001b[0m \u001b[0mm\u001b[0m\u001b[1;33m.\u001b[0m\u001b[0msolve\u001b[0m\u001b[1;33m(\u001b[0m\u001b[0msolver\u001b[0m\u001b[1;33m=\u001b[0m\u001b[1;34m\"mosek\"\u001b[0m\u001b[1;33m,\u001b[0m \u001b[0mverbosity\u001b[0m\u001b[1;33m=\u001b[0m\u001b[1;36m0\u001b[0m\u001b[1;33m,\u001b[0m \u001b[0mskipsweepfailures\u001b[0m\u001b[1;33m=\u001b[0m\u001b[0mTrue\u001b[0m\u001b[1;33m)\u001b[0m\u001b[1;33m\u001b[0m\u001b[0m\n\u001b[0m",
      "\u001b[1;32mC:\\Python27\\lib\\site-packages\\gpkit\\model.pyc\u001b[0m in \u001b[0;36msolve\u001b[1;34m(self, solver, verbosity, skipsweepfailures, *args, **kwargs)\u001b[0m\n\u001b[0;32m    340\u001b[0m         \u001b[1;32mtry\u001b[0m\u001b[1;33m:\u001b[0m\u001b[1;33m\u001b[0m\u001b[0m\n\u001b[0;32m    341\u001b[0m             return self._solve(\"gp\", solver, verbosity, skipsweepfailures,\n\u001b[1;32m--> 342\u001b[1;33m                                *args, **kwargs)\n\u001b[0m\u001b[0;32m    343\u001b[0m         \u001b[1;32mexcept\u001b[0m \u001b[0mValueError\u001b[0m \u001b[1;32mas\u001b[0m \u001b[0merr\u001b[0m\u001b[1;33m:\u001b[0m\u001b[1;33m\u001b[0m\u001b[0m\n\u001b[0;32m    344\u001b[0m             \u001b[1;32mif\u001b[0m \u001b[0merr\u001b[0m\u001b[1;33m.\u001b[0m\u001b[0mmessage\u001b[0m \u001b[1;33m==\u001b[0m \u001b[1;33m(\u001b[0m\u001b[1;34m\"GeometricPrograms cannot contain Signomials\"\u001b[0m\u001b[1;33m)\u001b[0m\u001b[1;33m:\u001b[0m\u001b[1;33m\u001b[0m\u001b[0m\n",
      "\u001b[1;32mC:\\Python27\\lib\\site-packages\\gpkit\\model.pyc\u001b[0m in \u001b[0;36m_solve\u001b[1;34m(self, programType, solver, verbosity, skipsweepfailures, *args, **kwargs)\u001b[0m\n\u001b[0;32m    476\u001b[0m \u001b[1;33m\u001b[0m\u001b[0m\n\u001b[0;32m    477\u001b[0m             \u001b[0mself\u001b[0m\u001b[1;33m.\u001b[0m\u001b[0mprogram\u001b[0m \u001b[1;33m=\u001b[0m \u001b[1;33m[\u001b[0m\u001b[1;33m]\u001b[0m\u001b[1;33m\u001b[0m\u001b[0m\n\u001b[1;32m--> 478\u001b[1;33m             \u001b[1;32mfor\u001b[0m \u001b[0mprogram\u001b[0m\u001b[1;33m,\u001b[0m \u001b[0mresult\u001b[0m \u001b[1;32min\u001b[0m \u001b[0mmapfn\u001b[0m\u001b[1;33m(\u001b[0m\u001b[0msolve_pass\u001b[0m\u001b[1;33m,\u001b[0m \u001b[0mrange\u001b[0m\u001b[1;33m(\u001b[0m\u001b[0mN_passes\u001b[0m\u001b[1;33m)\u001b[0m\u001b[1;33m)\u001b[0m\u001b[1;33m:\u001b[0m\u001b[1;33m\u001b[0m\u001b[0m\n\u001b[0m\u001b[0;32m    479\u001b[0m                 \u001b[0mself\u001b[0m\u001b[1;33m.\u001b[0m\u001b[0mprogram\u001b[0m\u001b[1;33m.\u001b[0m\u001b[0mappend\u001b[0m\u001b[1;33m(\u001b[0m\u001b[0mprogram\u001b[0m\u001b[1;33m)\u001b[0m  \u001b[1;31m# NOTE: SIDE EFFECTS\u001b[0m\u001b[1;33m\u001b[0m\u001b[0m\n\u001b[0;32m    480\u001b[0m                 \u001b[1;32mif\u001b[0m \u001b[0mresult\u001b[0m\u001b[1;33m:\u001b[0m  \u001b[1;31m# solve succeeded\u001b[0m\u001b[1;33m\u001b[0m\u001b[0m\n",
      "\u001b[1;32mC:\\Python27\\lib\\site-packages\\gpkit\\model.pyc\u001b[0m in \u001b[0;36msolve_pass\u001b[1;34m(i)\u001b[0m\n\u001b[0;32m    463\u001b[0m                                                 verbosity=verbosity)\n\u001b[0;32m    464\u001b[0m                 \u001b[1;32mtry\u001b[0m\u001b[1;33m:\u001b[0m\u001b[1;33m\u001b[0m\u001b[0m\n\u001b[1;32m--> 465\u001b[1;33m                     \u001b[0mresult\u001b[0m \u001b[1;33m=\u001b[0m \u001b[0msolvefn\u001b[0m\u001b[1;33m(\u001b[0m\u001b[1;33m*\u001b[0m\u001b[0margs\u001b[0m\u001b[1;33m,\u001b[0m \u001b[1;33m**\u001b[0m\u001b[0mkwargs\u001b[0m\u001b[1;33m)\u001b[0m\u001b[1;33m\u001b[0m\u001b[0m\n\u001b[0m\u001b[0;32m    466\u001b[0m                     sol = parse_result(result, constants_, beforesubs,\n\u001b[0;32m    467\u001b[0m                                        sweep, linkedsweep)\n",
      "\u001b[1;32mC:\\Python27\\lib\\site-packages\\gpkit\\geometric_program.pyc\u001b[0m in \u001b[0;36msolve\u001b[1;34m(self, solver, verbosity, *args, **kwargs)\u001b[0m\n\u001b[0;32m    120\u001b[0m             \u001b[0msolverfn\u001b[0m \u001b[1;33m=\u001b[0m \u001b[0mcli_expopt\u001b[0m\u001b[1;33m.\u001b[0m\u001b[0mimize_fn\u001b[0m\u001b[1;33m(\u001b[0m\u001b[1;33m*\u001b[0m\u001b[0margs\u001b[0m\u001b[1;33m,\u001b[0m \u001b[1;33m**\u001b[0m\u001b[0mkwargs\u001b[0m\u001b[1;33m)\u001b[0m\u001b[1;33m\u001b[0m\u001b[0m\n\u001b[0;32m    121\u001b[0m         \u001b[1;32melif\u001b[0m \u001b[0msolver\u001b[0m \u001b[1;33m==\u001b[0m \u001b[1;34m\"mosek\"\u001b[0m\u001b[1;33m:\u001b[0m\u001b[1;33m\u001b[0m\u001b[0m\n\u001b[1;32m--> 122\u001b[1;33m             \u001b[1;32mfrom\u001b[0m \u001b[1;33m.\u001b[0m\u001b[0m_mosek\u001b[0m \u001b[1;32mimport\u001b[0m \u001b[0mexpopt\u001b[0m\u001b[1;33m\u001b[0m\u001b[0m\n\u001b[0m\u001b[0;32m    123\u001b[0m             \u001b[0msolverfn\u001b[0m \u001b[1;33m=\u001b[0m \u001b[0mexpopt\u001b[0m\u001b[1;33m.\u001b[0m\u001b[0mimize\u001b[0m\u001b[1;33m\u001b[0m\u001b[0m\n\u001b[0;32m    124\u001b[0m         \u001b[1;32melif\u001b[0m \u001b[0mhasattr\u001b[0m\u001b[1;33m(\u001b[0m\u001b[0msolver\u001b[0m\u001b[1;33m,\u001b[0m \u001b[1;34m\"__call__\"\u001b[0m\u001b[1;33m)\u001b[0m\u001b[1;33m:\u001b[0m\u001b[1;33m\u001b[0m\u001b[0m\n",
      "\u001b[1;32mC:\\Python27\\lib\\site-packages\\gpkit\\_mosek\\expopt.py\u001b[0m in \u001b[0;36m<module>\u001b[1;34m()\u001b[0m\n\u001b[0;32m     20\u001b[0m     \u001b[1;32mfrom\u001b[0m \u001b[1;33m.\u001b[0m\u001b[0mlib\u001b[0m \u001b[1;32mimport\u001b[0m \u001b[0mexpopt_h\u001b[0m\u001b[1;33m\u001b[0m\u001b[0m\n\u001b[0;32m     21\u001b[0m \u001b[1;32mexcept\u001b[0m \u001b[0mException\u001b[0m \u001b[1;32mas\u001b[0m \u001b[0me\u001b[0m\u001b[1;33m:\u001b[0m\u001b[1;33m\u001b[0m\u001b[0m\n\u001b[1;32m---> 22\u001b[1;33m     \u001b[1;32mraise\u001b[0m \u001b[0mImportError\u001b[0m\u001b[1;33m(\u001b[0m\u001b[1;34m\"Could not load MOSEK library: \"\u001b[0m\u001b[1;33m+\u001b[0m\u001b[0mrepr\u001b[0m\u001b[1;33m(\u001b[0m\u001b[0me\u001b[0m\u001b[1;33m)\u001b[0m\u001b[1;33m)\u001b[0m\u001b[1;33m\u001b[0m\u001b[0m\n\u001b[0m\u001b[0;32m     23\u001b[0m \u001b[1;33m\u001b[0m\u001b[0m\n\u001b[0;32m     24\u001b[0m \u001b[1;33m\u001b[0m\u001b[0m\n",
      "\u001b[1;31mImportError\u001b[0m: Could not load MOSEK library: ImportError('No module named lib',)"
     ]
    }
   ],
   "source": [
    "import numpy as np\n",
    "m.substitutions.update({\"t\": ('sweep', np.linspace(4, 7, 5)),\n",
    "                        \"d_{footprint}\": ('sweep', np.linspace(0.1,0.4,5))})\n",
    "sol = m.solve(solver=\"mosek\", verbosity=0, skipsweepfailures=True)"
   ]
  },
  {
   "cell_type": "code",
   "execution_count": 1,
   "metadata": {
    "collapsed": false
   },
   "outputs": [
    {
     "ename": "NameError",
     "evalue": "name 'm' is not defined",
     "output_type": "error",
     "traceback": [
      "\u001b[1;31m---------------------------------------------------------------------------\u001b[0m",
      "\u001b[1;31mNameError\u001b[0m                                 Traceback (most recent call last)",
      "\u001b[1;32m<ipython-input-1-8e32693d2cd0>\u001b[0m in \u001b[0;36m<module>\u001b[1;34m()\u001b[0m\n\u001b[0;32m      1\u001b[0m \u001b[0mget_ipython\u001b[0m\u001b[1;33m(\u001b[0m\u001b[1;33m)\u001b[0m\u001b[1;33m.\u001b[0m\u001b[0mmagic\u001b[0m\u001b[1;33m(\u001b[0m\u001b[1;34mu'matplotlib inline'\u001b[0m\u001b[1;33m)\u001b[0m\u001b[1;33m\u001b[0m\u001b[0m\n\u001b[0;32m      2\u001b[0m \u001b[1;32mfrom\u001b[0m \u001b[0mgpkit\u001b[0m\u001b[1;33m.\u001b[0m\u001b[0minteractive\u001b[0m\u001b[1;33m.\u001b[0m\u001b[0mplotting\u001b[0m \u001b[1;32mimport\u001b[0m \u001b[0mcontour_array\u001b[0m\u001b[1;33m\u001b[0m\u001b[0m\n\u001b[1;32m----> 3\u001b[1;33m \u001b[0m_\u001b[0m \u001b[1;33m=\u001b[0m \u001b[0mcontour_array\u001b[0m\u001b[1;33m(\u001b[0m\u001b[0mm\u001b[0m\u001b[1;33m,\u001b[0m \u001b[1;34m\"V\"\u001b[0m\u001b[1;33m,\u001b[0m \u001b[1;34m\"t\"\u001b[0m\u001b[1;33m,\u001b[0m \u001b[1;33m[\u001b[0m\u001b[1;34m\"W\"\u001b[0m\u001b[1;33m,\u001b[0m \u001b[1;34m\"S\"\u001b[0m\u001b[1;33m]\u001b[0m\u001b[1;33m)\u001b[0m\u001b[1;33m\u001b[0m\u001b[0m\n\u001b[0m",
      "\u001b[1;31mNameError\u001b[0m: name 'm' is not defined"
     ]
    }
   ],
   "source": [
    "%matplotlib inline\n",
    "from gpkit.interactive.plotting import contour_array\n",
    "_ = contour_array(m, \"V\", \"t\", [\"W\", \"S\"])"
   ]
  },
  {
   "cell_type": "code",
   "execution_count": null,
   "metadata": {
    "collapsed": true
   },
   "outputs": [],
   "source": []
  }
 ],
 "metadata": {
  "kernelspec": {
   "display_name": "Python 2",
   "language": "python",
   "name": "python2"
  },
  "language_info": {
   "codemirror_mode": {
    "name": "ipython",
    "version": 2
   },
   "file_extension": ".py",
   "mimetype": "text/x-python",
   "name": "python",
   "nbconvert_exporter": "python",
   "pygments_lexer": "ipython2",
   "version": "2.7.10"
  }
 },
 "nbformat": 4,
 "nbformat_minor": 0
}

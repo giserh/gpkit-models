{
 "cells": [
  {
   "cell_type": "code",
   "execution_count": 3,
   "metadata": {
    "collapsed": false,
    "scrolled": false
   },
   "outputs": [
    {
     "name": "stdout",
     "output_type": "stream",
     "text": [
      "\n",
      "Cost\n",
      "----\n",
      " 104.7 [lbf] \n",
      "\n",
      "Free Variables\n",
      "--------------\n",
      "          A : 14.52                  aspect ratio                  \n",
      "A_{capcent} : 8.745e-05  [m**2]      cap area at center            \n",
      "        C_D : 0.06369                Drag coefficient              \n",
      "        C_L : 1.092                  Lift coefficient              \n",
      "        C_f : 0.005481               wing skin friction coefficient\n",
      " C_{Torque} : 0.1768                 Torque coefficient            \n",
      "          F : 2289       [N]         load on wings                 \n",
      "          M : 1158       [N*m]       center bending moment         \n",
      "    M_{cap} : 0.2075     [kg]        cap mass                      \n",
      "   M_{skin} : 0.4574     [kg]        skin mass                     \n",
      " Mach_{tip} : 0.6789                 Propeller tip Mach number     \n",
      "          P : 4.154e+04  [N]         cap load                      \n",
      "  P_{shaft} : 1.269      [hp]        Shaft power                   \n",
      "         Re : 4.488e+05              Reynolds number               \n",
      "          S : 1.127      [m**2]      Wing reference area           \n",
      "    T_{atm} : 258.4      [K]         Air temperature               \n",
      "     Thrust : 6.109      [lbf]       Cruise thrust                 \n",
      "          V : 31.34      [m/s]       Cruise velocity               \n",
      "    V_{cap} : 0.0001179  [m**3]      cap volume                    \n",
      "   V_{wind} : 31.34      [m/s]       wind speed                    \n",
      "          W : 104.7      [lbf]       Aircraft weight               \n",
      "   W_{cent} : 102.9      [lbf]       Center aircraft weight        \n",
      "   W_{fuel} : 66.94      [lbf]       Fuel Weight                   \n",
      "   W_{wing} : 1.467      [lbf]       Total wing structural weight  \n",
      "    W_{zfw} : 37.47      [lbf]       Zero fuel weight              \n",
      "       \\rho : 0.7708     [kg/m**3]                                 \n",
      "    a_{atm} : 322.3      [m/s]       Speed of sound at altitude    \n",
      "          b : 13.27      [ft]        span                          \n",
      "          c : 0.9143     [ft]        wing chord                    \n",
      "d_{tip_max} : 1.659      [ft]        max wing tip deflection       \n",
      "    d_{tip} : 1.659      [ft]        Tip deflection                \n",
      "    eta_{0} : 0.2114                 overall efficiency            \n",
      "          h : 1.5e+04    [ft]        Altitude                      \n",
      "   h_{spar} : 0.02787    [m]         Spar height                   \n",
      "mdot_{fuel} : 0.7613     [lbf/hr]    Fuel flow rate                \n",
      "    n_{Rot} : 114.2      [1/s]       Propeller rotation speed      \n",
      "    w_{cap} : 4.841      [in]        spar cap width                \n",
      "         wl : 8.628      [lbf/ft**2] wing loading                  \n",
      "    z_{bre} : 1.047                  breguet coefficient           \n",
      "\n",
      "Sensitivities\n",
      "-------------\n",
      "               t : 0.999    time on station                       \n",
      "            BSFC : 0.999    brake specific fuel consumption       \n",
      "   d_{footprint} : 0.7236   station keeping footprint diameter    \n",
      "\\theta_{look-up} : 0.6674   look up angle                         \n",
      "       wd_{cnst} : 0.6652   wind speed constant predicted by model\n",
      "        W_{fuse} : 0.5468   fuselage weight                       \n",
      "             sig : 0.3997   Cap stress                            \n",
      "          C_{d0} : 0.3137   non-wing drag coefficient             \n",
      "         W_{fix} : 0.2734   fixed weight                          \n",
      "         wd_{ln} : 0.2616   linear wind speed variable            \n",
      "        K_{wing} : 0.2235   wing form factor                      \n",
      "         W_{eng} : 0.1641   Engine weight                         \n",
      "         R_{atm} : 0.05843  Universal gas constant                \n",
      "             \\mu : 0.0447   dynamic viscosity                     \n",
      "               g : 0.04275  Gravitational acceleration            \n",
      "          T_{sl} : 0.02983  Temperature at sea level              \n",
      "      rho_{skin} : 0.02941  Wing Skin Density                     \n",
      "         L_{atm} : 0.0286   Temperature lapse rate                \n",
      "       rho_{cap} : 0.01334  density of cf                         \n",
      "               N : 0.01334  Load factor                           \n",
      "       R_{earth} : -0.02978 Radius of earth                       \n",
      "          p_{sl} : -0.05843 Pressure at sea level                 \n",
      "         M_{atm} : -0.05843 Molar mass of dry air                 \n",
      "         E_{cap} : -0.413   Youngs modulus cf                     \n",
      "             t_c : -0.4256  thickness ratio                       \n",
      "               e : -0.4554  spanwise efficiency                   \n",
      "     \\eta_{prop} : -0.999   Propulsive efficiency                 \n",
      "\n"
     ]
    }
   ],
   "source": [
    "from gas_hale import GasPoweredHALE\n",
    "import gpkit\n",
    "import numpy as np\n",
    "gpkit.settings['latex_modelname'] = False\n",
    "\n",
    "# to modify the GasPoweredHALE model, edit gas_hale.py\n",
    "\n",
    "m = GasPoweredHALE()\n",
    "sol = m.solve()\n",
    "m.controlpanel()"
   ]
  },
  {
   "cell_type": "code",
   "execution_count": 1,
   "metadata": {
    "collapsed": false
   },
   "outputs": [
    {
     "ename": "NameError",
     "evalue": "name 'sol' is not defined",
     "output_type": "error",
     "traceback": [
      "\u001b[1;31m---------------------------------------------------------------------------\u001b[0m",
      "\u001b[1;31mNameError\u001b[0m                                 Traceback (most recent call last)",
      "\u001b[1;32m<ipython-input-1-7cb18706f4bb>\u001b[0m in \u001b[0;36m<module>\u001b[1;34m()\u001b[0m\n\u001b[1;32m----> 1\u001b[1;33m \u001b[0mx\u001b[0m \u001b[1;33m=\u001b[0m \u001b[0msol\u001b[0m\u001b[1;33m(\u001b[0m\u001b[1;34m'W_{fuel}'\u001b[0m\u001b[1;33m)\u001b[0m\u001b[1;33m/\u001b[0m\u001b[0msol\u001b[0m\u001b[1;33m(\u001b[0m\u001b[1;34m'W'\u001b[0m\u001b[1;33m)\u001b[0m\u001b[1;33m\u001b[0m\u001b[0m\n\u001b[0m\u001b[0;32m      2\u001b[0m \u001b[0my\u001b[0m \u001b[1;33m=\u001b[0m \u001b[0msol\u001b[0m\u001b[1;33m(\u001b[0m\u001b[1;34m'W_{pay}'\u001b[0m\u001b[1;33m)\u001b[0m\u001b[1;33m/\u001b[0m\u001b[0msol\u001b[0m\u001b[1;33m(\u001b[0m\u001b[1;34m'W'\u001b[0m\u001b[1;33m)\u001b[0m\u001b[1;33m\u001b[0m\u001b[0m\n\u001b[0;32m      3\u001b[0m \u001b[0mz\u001b[0m \u001b[1;33m=\u001b[0m \u001b[0msol\u001b[0m\u001b[1;33m(\u001b[0m\u001b[1;34m'P_{shaft}'\u001b[0m\u001b[1;33m)\u001b[0m\u001b[1;33m/\u001b[0m\u001b[1;36m745.699872\u001b[0m\u001b[1;33m\u001b[0m\u001b[0m\n\u001b[0;32m      4\u001b[0m \u001b[1;32mprint\u001b[0m \u001b[0mx\u001b[0m\u001b[1;33m\u001b[0m\u001b[0m\n\u001b[0;32m      5\u001b[0m \u001b[1;32mprint\u001b[0m \u001b[0my\u001b[0m\u001b[1;33m\u001b[0m\u001b[0m\n",
      "\u001b[1;31mNameError\u001b[0m: name 'sol' is not defined"
     ]
    }
   ],
   "source": [
    "x = sol('W_{fuel}')/sol('W')\n",
    "y = sol('W_{pay}')/sol('W')\n",
    "z = sol('P_{shaft}')/745.699872\n",
    "print x\n",
    "print y\n",
    "print z"
   ]
  },
  {
   "cell_type": "code",
   "execution_count": 6,
   "metadata": {
    "collapsed": false
   },
   "outputs": [
    {
     "ename": "ImportError",
     "evalue": "Could not load MOSEK library: ImportError('No module named lib',)",
     "output_type": "error",
     "traceback": [
      "\u001b[1;31m---------------------------------------------------------------------------\u001b[0m",
      "\u001b[1;31mImportError\u001b[0m                               Traceback (most recent call last)",
      "\u001b[1;32m<ipython-input-6-ce779fac2e21>\u001b[0m in \u001b[0;36m<module>\u001b[1;34m()\u001b[0m\n\u001b[0;32m      2\u001b[0m m.substitutions.update({\"t\": ('sweep', np.linspace(4, 7, 5)),\n\u001b[0;32m      3\u001b[0m                         \"d_{footprint}\": ('sweep', np.linspace(0.1,0.4,5))})\n\u001b[1;32m----> 4\u001b[1;33m \u001b[0msol\u001b[0m \u001b[1;33m=\u001b[0m \u001b[0mm\u001b[0m\u001b[1;33m.\u001b[0m\u001b[0msolve\u001b[0m\u001b[1;33m(\u001b[0m\u001b[0msolver\u001b[0m\u001b[1;33m=\u001b[0m\u001b[1;34m\"mosek\"\u001b[0m\u001b[1;33m,\u001b[0m \u001b[0mverbosity\u001b[0m\u001b[1;33m=\u001b[0m\u001b[1;36m0\u001b[0m\u001b[1;33m,\u001b[0m \u001b[0mskipsweepfailures\u001b[0m\u001b[1;33m=\u001b[0m\u001b[0mTrue\u001b[0m\u001b[1;33m)\u001b[0m\u001b[1;33m\u001b[0m\u001b[0m\n\u001b[0m",
      "\u001b[1;32mC:\\Python27\\lib\\site-packages\\gpkit\\model.pyc\u001b[0m in \u001b[0;36msolve\u001b[1;34m(self, solver, verbosity, skipsweepfailures, *args, **kwargs)\u001b[0m\n\u001b[0;32m    340\u001b[0m         \u001b[1;32mtry\u001b[0m\u001b[1;33m:\u001b[0m\u001b[1;33m\u001b[0m\u001b[0m\n\u001b[0;32m    341\u001b[0m             return self._solve(\"gp\", solver, verbosity, skipsweepfailures,\n\u001b[1;32m--> 342\u001b[1;33m                                *args, **kwargs)\n\u001b[0m\u001b[0;32m    343\u001b[0m         \u001b[1;32mexcept\u001b[0m \u001b[0mValueError\u001b[0m \u001b[1;32mas\u001b[0m \u001b[0merr\u001b[0m\u001b[1;33m:\u001b[0m\u001b[1;33m\u001b[0m\u001b[0m\n\u001b[0;32m    344\u001b[0m             \u001b[1;32mif\u001b[0m \u001b[0merr\u001b[0m\u001b[1;33m.\u001b[0m\u001b[0mmessage\u001b[0m \u001b[1;33m==\u001b[0m \u001b[1;33m(\u001b[0m\u001b[1;34m\"GeometricPrograms cannot contain Signomials\"\u001b[0m\u001b[1;33m)\u001b[0m\u001b[1;33m:\u001b[0m\u001b[1;33m\u001b[0m\u001b[0m\n",
      "\u001b[1;32mC:\\Python27\\lib\\site-packages\\gpkit\\model.pyc\u001b[0m in \u001b[0;36m_solve\u001b[1;34m(self, programType, solver, verbosity, skipsweepfailures, *args, **kwargs)\u001b[0m\n\u001b[0;32m    476\u001b[0m \u001b[1;33m\u001b[0m\u001b[0m\n\u001b[0;32m    477\u001b[0m             \u001b[0mself\u001b[0m\u001b[1;33m.\u001b[0m\u001b[0mprogram\u001b[0m \u001b[1;33m=\u001b[0m \u001b[1;33m[\u001b[0m\u001b[1;33m]\u001b[0m\u001b[1;33m\u001b[0m\u001b[0m\n\u001b[1;32m--> 478\u001b[1;33m             \u001b[1;32mfor\u001b[0m \u001b[0mprogram\u001b[0m\u001b[1;33m,\u001b[0m \u001b[0mresult\u001b[0m \u001b[1;32min\u001b[0m \u001b[0mmapfn\u001b[0m\u001b[1;33m(\u001b[0m\u001b[0msolve_pass\u001b[0m\u001b[1;33m,\u001b[0m \u001b[0mrange\u001b[0m\u001b[1;33m(\u001b[0m\u001b[0mN_passes\u001b[0m\u001b[1;33m)\u001b[0m\u001b[1;33m)\u001b[0m\u001b[1;33m:\u001b[0m\u001b[1;33m\u001b[0m\u001b[0m\n\u001b[0m\u001b[0;32m    479\u001b[0m                 \u001b[0mself\u001b[0m\u001b[1;33m.\u001b[0m\u001b[0mprogram\u001b[0m\u001b[1;33m.\u001b[0m\u001b[0mappend\u001b[0m\u001b[1;33m(\u001b[0m\u001b[0mprogram\u001b[0m\u001b[1;33m)\u001b[0m  \u001b[1;31m# NOTE: SIDE EFFECTS\u001b[0m\u001b[1;33m\u001b[0m\u001b[0m\n\u001b[0;32m    480\u001b[0m                 \u001b[1;32mif\u001b[0m \u001b[0mresult\u001b[0m\u001b[1;33m:\u001b[0m  \u001b[1;31m# solve succeeded\u001b[0m\u001b[1;33m\u001b[0m\u001b[0m\n",
      "\u001b[1;32mC:\\Python27\\lib\\site-packages\\gpkit\\model.pyc\u001b[0m in \u001b[0;36msolve_pass\u001b[1;34m(i)\u001b[0m\n\u001b[0;32m    463\u001b[0m                                                 verbosity=verbosity)\n\u001b[0;32m    464\u001b[0m                 \u001b[1;32mtry\u001b[0m\u001b[1;33m:\u001b[0m\u001b[1;33m\u001b[0m\u001b[0m\n\u001b[1;32m--> 465\u001b[1;33m                     \u001b[0mresult\u001b[0m \u001b[1;33m=\u001b[0m \u001b[0msolvefn\u001b[0m\u001b[1;33m(\u001b[0m\u001b[1;33m*\u001b[0m\u001b[0margs\u001b[0m\u001b[1;33m,\u001b[0m \u001b[1;33m**\u001b[0m\u001b[0mkwargs\u001b[0m\u001b[1;33m)\u001b[0m\u001b[1;33m\u001b[0m\u001b[0m\n\u001b[0m\u001b[0;32m    466\u001b[0m                     sol = parse_result(result, constants_, beforesubs,\n\u001b[0;32m    467\u001b[0m                                        sweep, linkedsweep)\n",
      "\u001b[1;32mC:\\Python27\\lib\\site-packages\\gpkit\\geometric_program.pyc\u001b[0m in \u001b[0;36msolve\u001b[1;34m(self, solver, verbosity, *args, **kwargs)\u001b[0m\n\u001b[0;32m    120\u001b[0m             \u001b[0msolverfn\u001b[0m \u001b[1;33m=\u001b[0m \u001b[0mcli_expopt\u001b[0m\u001b[1;33m.\u001b[0m\u001b[0mimize_fn\u001b[0m\u001b[1;33m(\u001b[0m\u001b[1;33m*\u001b[0m\u001b[0margs\u001b[0m\u001b[1;33m,\u001b[0m \u001b[1;33m**\u001b[0m\u001b[0mkwargs\u001b[0m\u001b[1;33m)\u001b[0m\u001b[1;33m\u001b[0m\u001b[0m\n\u001b[0;32m    121\u001b[0m         \u001b[1;32melif\u001b[0m \u001b[0msolver\u001b[0m \u001b[1;33m==\u001b[0m \u001b[1;34m\"mosek\"\u001b[0m\u001b[1;33m:\u001b[0m\u001b[1;33m\u001b[0m\u001b[0m\n\u001b[1;32m--> 122\u001b[1;33m             \u001b[1;32mfrom\u001b[0m \u001b[1;33m.\u001b[0m\u001b[0m_mosek\u001b[0m \u001b[1;32mimport\u001b[0m \u001b[0mexpopt\u001b[0m\u001b[1;33m\u001b[0m\u001b[0m\n\u001b[0m\u001b[0;32m    123\u001b[0m             \u001b[0msolverfn\u001b[0m \u001b[1;33m=\u001b[0m \u001b[0mexpopt\u001b[0m\u001b[1;33m.\u001b[0m\u001b[0mimize\u001b[0m\u001b[1;33m\u001b[0m\u001b[0m\n\u001b[0;32m    124\u001b[0m         \u001b[1;32melif\u001b[0m \u001b[0mhasattr\u001b[0m\u001b[1;33m(\u001b[0m\u001b[0msolver\u001b[0m\u001b[1;33m,\u001b[0m \u001b[1;34m\"__call__\"\u001b[0m\u001b[1;33m)\u001b[0m\u001b[1;33m:\u001b[0m\u001b[1;33m\u001b[0m\u001b[0m\n",
      "\u001b[1;32mC:\\Python27\\lib\\site-packages\\gpkit\\_mosek\\expopt.py\u001b[0m in \u001b[0;36m<module>\u001b[1;34m()\u001b[0m\n\u001b[0;32m     20\u001b[0m     \u001b[1;32mfrom\u001b[0m \u001b[1;33m.\u001b[0m\u001b[0mlib\u001b[0m \u001b[1;32mimport\u001b[0m \u001b[0mexpopt_h\u001b[0m\u001b[1;33m\u001b[0m\u001b[0m\n\u001b[0;32m     21\u001b[0m \u001b[1;32mexcept\u001b[0m \u001b[0mException\u001b[0m \u001b[1;32mas\u001b[0m \u001b[0me\u001b[0m\u001b[1;33m:\u001b[0m\u001b[1;33m\u001b[0m\u001b[0m\n\u001b[1;32m---> 22\u001b[1;33m     \u001b[1;32mraise\u001b[0m \u001b[0mImportError\u001b[0m\u001b[1;33m(\u001b[0m\u001b[1;34m\"Could not load MOSEK library: \"\u001b[0m\u001b[1;33m+\u001b[0m\u001b[0mrepr\u001b[0m\u001b[1;33m(\u001b[0m\u001b[0me\u001b[0m\u001b[1;33m)\u001b[0m\u001b[1;33m)\u001b[0m\u001b[1;33m\u001b[0m\u001b[0m\n\u001b[0m\u001b[0;32m     23\u001b[0m \u001b[1;33m\u001b[0m\u001b[0m\n\u001b[0;32m     24\u001b[0m \u001b[1;33m\u001b[0m\u001b[0m\n",
      "\u001b[1;31mImportError\u001b[0m: Could not load MOSEK library: ImportError('No module named lib',)"
     ]
    }
   ],
   "source": [
    "import numpy as np\n",
    "m.substitutions.update({\"t\": ('sweep', np.linspace(4, 7, 5)),\n",
    "                        \"d_{footprint}\": ('sweep', np.linspace(0.1,0.4,5))})\n",
    "sol = m.solve(solver=\"mosek\", verbosity=0, skipsweepfailures=True)"
   ]
  },
  {
   "cell_type": "code",
   "execution_count": 14,
   "metadata": {
    "collapsed": false
   },
   "outputs": [
    {
     "ename": "KeyError",
     "evalue": "V_GasPoweredHALE2",
     "output_type": "error",
     "traceback": [
      "\u001b[1;31m---------------------------------------------------------------------------\u001b[0m",
      "\u001b[1;31mKeyError\u001b[0m                                  Traceback (most recent call last)",
      "\u001b[1;32m<ipython-input-14-8e32693d2cd0>\u001b[0m in \u001b[0;36m<module>\u001b[1;34m()\u001b[0m\n\u001b[0;32m      1\u001b[0m \u001b[0mget_ipython\u001b[0m\u001b[1;33m(\u001b[0m\u001b[1;33m)\u001b[0m\u001b[1;33m.\u001b[0m\u001b[0mmagic\u001b[0m\u001b[1;33m(\u001b[0m\u001b[1;34mu'matplotlib inline'\u001b[0m\u001b[1;33m)\u001b[0m\u001b[1;33m\u001b[0m\u001b[0m\n\u001b[0;32m      2\u001b[0m \u001b[1;32mfrom\u001b[0m \u001b[0mgpkit\u001b[0m\u001b[1;33m.\u001b[0m\u001b[0minteractive\u001b[0m\u001b[1;33m.\u001b[0m\u001b[0mplotting\u001b[0m \u001b[1;32mimport\u001b[0m \u001b[0mcontour_array\u001b[0m\u001b[1;33m\u001b[0m\u001b[0m\n\u001b[1;32m----> 3\u001b[1;33m \u001b[0m_\u001b[0m \u001b[1;33m=\u001b[0m \u001b[0mcontour_array\u001b[0m\u001b[1;33m(\u001b[0m\u001b[0mm\u001b[0m\u001b[1;33m,\u001b[0m \u001b[1;34m\"V\"\u001b[0m\u001b[1;33m,\u001b[0m \u001b[1;34m\"t\"\u001b[0m\u001b[1;33m,\u001b[0m \u001b[1;33m[\u001b[0m\u001b[1;34m\"W\"\u001b[0m\u001b[1;33m,\u001b[0m \u001b[1;34m\"S\"\u001b[0m\u001b[1;33m]\u001b[0m\u001b[1;33m)\u001b[0m\u001b[1;33m\u001b[0m\u001b[0m\n\u001b[0m",
      "\u001b[1;32mC:\\Python27\\lib\\site-packages\\gpkit\\interactive\\plotting.pyc\u001b[0m in \u001b[0;36mcontour_array\u001b[1;34m(model, X, Y, Zs, cellsize, nrows, ncols, xticks, yticks, colors)\u001b[0m\n\u001b[0;32m     39\u001b[0m         \u001b[0mncols\u001b[0m \u001b[1;33m=\u001b[0m \u001b[1;36m2\u001b[0m \u001b[1;32mif\u001b[0m \u001b[0mn\u001b[0m \u001b[1;33m>=\u001b[0m \u001b[1;36m2\u001b[0m \u001b[1;32melse\u001b[0m \u001b[1;36m1\u001b[0m\u001b[1;33m\u001b[0m\u001b[0m\n\u001b[0;32m     40\u001b[0m     \u001b[0mfigsize\u001b[0m \u001b[1;33m=\u001b[0m \u001b[1;33m(\u001b[0m\u001b[0mcellsize\u001b[0m\u001b[1;33m[\u001b[0m\u001b[1;36m0\u001b[0m\u001b[1;33m]\u001b[0m\u001b[1;33m*\u001b[0m\u001b[0mncols\u001b[0m\u001b[1;33m,\u001b[0m \u001b[0mcellsize\u001b[0m\u001b[1;33m[\u001b[0m\u001b[1;36m1\u001b[0m\u001b[1;33m]\u001b[0m\u001b[1;33m*\u001b[0m\u001b[0mnrows\u001b[0m\u001b[1;33m)\u001b[0m\u001b[1;33m\u001b[0m\u001b[0m\n\u001b[1;32m---> 41\u001b[1;33m     \u001b[0mx_sweep\u001b[0m \u001b[1;33m=\u001b[0m \u001b[0mmodel\u001b[0m\u001b[1;33m.\u001b[0m\u001b[0msubstitutions\u001b[0m\u001b[1;33m[\u001b[0m\u001b[0mmodel\u001b[0m\u001b[1;33m[\u001b[0m\u001b[0mstr\u001b[0m\u001b[1;33m(\u001b[0m\u001b[0mX\u001b[0m\u001b[1;33m)\u001b[0m\u001b[1;33m]\u001b[0m\u001b[1;33m.\u001b[0m\u001b[0mkey\u001b[0m\u001b[1;33m]\u001b[0m\u001b[1;33m[\u001b[0m\u001b[1;36m1\u001b[0m\u001b[1;33m]\u001b[0m\u001b[1;33m\u001b[0m\u001b[0m\n\u001b[0m\u001b[0;32m     42\u001b[0m     \u001b[0my_sweep\u001b[0m \u001b[1;33m=\u001b[0m \u001b[0mmodel\u001b[0m\u001b[1;33m.\u001b[0m\u001b[0msubstitutions\u001b[0m\u001b[1;33m[\u001b[0m\u001b[0mmodel\u001b[0m\u001b[1;33m[\u001b[0m\u001b[0mstr\u001b[0m\u001b[1;33m(\u001b[0m\u001b[0mY\u001b[0m\u001b[1;33m)\u001b[0m\u001b[1;33m]\u001b[0m\u001b[1;33m.\u001b[0m\u001b[0mkey\u001b[0m\u001b[1;33m]\u001b[0m\u001b[1;33m[\u001b[0m\u001b[1;36m1\u001b[0m\u001b[1;33m]\u001b[0m\u001b[1;33m\u001b[0m\u001b[0m\n\u001b[0;32m     43\u001b[0m     \u001b[1;32mif\u001b[0m \u001b[0mxticks\u001b[0m \u001b[1;32mis\u001b[0m \u001b[0mNone\u001b[0m\u001b[1;33m:\u001b[0m\u001b[1;33m\u001b[0m\u001b[0m\n",
      "\u001b[1;31mKeyError\u001b[0m: V_GasPoweredHALE2"
     ]
    }
   ],
   "source": [
    "%matplotlib inline\n",
    "from gpkit.interactive.plotting import contour_array\n",
    "_ = contour_array(m, \"V\", \"t\", [\"W\", \"S\"])"
   ]
  },
  {
   "cell_type": "code",
   "execution_count": null,
   "metadata": {
    "collapsed": true
   },
   "outputs": [],
   "source": []
  }
 ],
 "metadata": {
  "kernelspec": {
   "display_name": "Python 2",
   "language": "python",
   "name": "python2"
  },
  "language_info": {
   "codemirror_mode": {
    "name": "ipython",
    "version": 2
   },
   "file_extension": ".py",
   "mimetype": "text/x-python",
   "name": "python",
   "nbconvert_exporter": "python",
   "pygments_lexer": "ipython2",
   "version": "2.7.10"
  }
 },
 "nbformat": 4,
 "nbformat_minor": 0
}
